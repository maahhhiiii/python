{
  "nbformat": 4,
  "nbformat_minor": 0,
  "metadata": {
    "colab": {
      "name": "Untitled0.ipynb",
      "provenance": [],
      "authorship_tag": "ABX9TyOA2GLUZnXrRJUbugHFY14I",
      "include_colab_link": true
    },
    "kernelspec": {
      "name": "python3",
      "display_name": "Python 3"
    }
  },
  "cells": [
    {
      "cell_type": "markdown",
      "metadata": {
        "id": "view-in-github",
        "colab_type": "text"
      },
      "source": [
        "<a href=\"https://colab.research.google.com/github/maahhhiiii/python/blob/main/assignment1_05.03.ipynb\" target=\"_parent\"><img src=\"https://colab.research.google.com/assets/colab-badge.svg\" alt=\"Open In Colab\"/></a>"
      ]
    },
    {
      "cell_type": "markdown",
      "metadata": {
        "id": "0knk_Y62rqHl"
      },
      "source": [
        "WAP to input your marks for 3 subjects then find sum and percentage"
      ]
    },
    {
      "cell_type": "code",
      "metadata": {
        "colab": {
          "base_uri": "https://localhost:8080/"
        },
        "id": "zg6zZ6fud77O",
        "outputId": "5031677d-555a-4071-9295-6bf7f165b1e7"
      },
      "source": [
        "#name=input(\"Enter your name-\")\r\n",
        "m1=int(input(\"Enter your mark1-\"))\r\n",
        "m2=int(input(\"Enter your mark2-\"))\r\n",
        "m3=int(input(\"Enter your mark3-\"))\r\n",
        "sum=m1+m2+m3\r\n",
        "percentage=(sum/300)*100\r\n",
        "print(\"Sum of all the marks is-\",sum)\r\n",
        "print(\"percentage =\",percentage)"
      ],
      "execution_count": 11,
      "outputs": [
        {
          "output_type": "stream",
          "text": [
            "Enter your mark1-20\n",
            "Enter your mark2-30\n",
            "Enter your mark3-40\n",
            "Sum of all the marks is- 90\n",
            "percentage = 30.0\n"
          ],
          "name": "stdout"
        }
      ]
    },
    {
      "cell_type": "markdown",
      "metadata": {
        "id": "XludjHZSr_MS"
      },
      "source": [
        "WAP to find thea area of cirlce"
      ]
    },
    {
      "cell_type": "code",
      "metadata": {
        "colab": {
          "base_uri": "https://localhost:8080/"
        },
        "id": "Wgd8abqtfkXo",
        "outputId": "305e915a-87b5-4d90-e0c3-95d4a715b4c7"
      },
      "source": [
        "r=float(input(\"Enter radius of circle\"))\r\n",
        "p=3.14\r\n",
        "area=p*r*r\r\n",
        "print(\"area=\",area)"
      ],
      "execution_count": 9,
      "outputs": [
        {
          "output_type": "stream",
          "text": [
            "Enter radius of circle2\n",
            "area= 12.56\n"
          ],
          "name": "stdout"
        }
      ]
    },
    {
      "cell_type": "markdown",
      "metadata": {
        "id": "QD3xQTd0sJSJ"
      },
      "source": [
        "WAP to to find the area and perimeter of triangle"
      ]
    },
    {
      "cell_type": "code",
      "metadata": {
        "colab": {
          "base_uri": "https://localhost:8080/"
        },
        "id": "H5tp7tgBkpK-",
        "outputId": "a1dc751e-8728-4d72-e7ae-cc0cc91effa8"
      },
      "source": [
        "h=int(input(\"Enter the height of the triangle\"))\r\n",
        "b=int(input(\"Enter the base of the triangle\"))\r\n",
        "l=int(input(\"Enter the third side of triangle\"))\r\n",
        "area=0.5*h*b\r\n",
        "p=h+b+l\r\n",
        "print(\"area=\",area)\r\n",
        "print(\"perimeter=\",p)"
      ],
      "execution_count": 10,
      "outputs": [
        {
          "output_type": "stream",
          "text": [
            "Enter the height of the triangle10\n",
            "Enter the base of the triangle20\n",
            "Enter the third side of triangle30\n",
            "area= 100.0\n",
            "perimeter= 60\n"
          ],
          "name": "stdout"
        }
      ]
    },
    {
      "cell_type": "markdown",
      "metadata": {
        "id": "xEewI09MpMFq"
      },
      "source": [
        " WAP to calculate the volume of sphre"
      ]
    },
    {
      "cell_type": "code",
      "metadata": {
        "colab": {
          "base_uri": "https://localhost:8080/"
        },
        "id": "Tp8UEnlmm4Io",
        "outputId": "14c459cb-0052-4366-d589-ce6080403dd4"
      },
      "source": [
        "r=float(input(\"Enter radius of Sphere\"))\r\n",
        "p=3.14\r\n",
        "volume=4*p*r*r/3\r\n",
        "print(\"Volume=\",volume)\r\n"
      ],
      "execution_count": 12,
      "outputs": [
        {
          "output_type": "stream",
          "text": [
            "Enter radius of Sphere2\n",
            "Volume= 16.746666666666666\n"
          ],
          "name": "stdout"
        }
      ]
    },
    {
      "cell_type": "markdown",
      "metadata": {
        "id": "5DGN4nLdpTga"
      },
      "source": [
        "WAP to create a list by initialzing with 5 diffrent fruits name and display them"
      ]
    },
    {
      "cell_type": "code",
      "metadata": {
        "colab": {
          "base_uri": "https://localhost:8080/"
        },
        "id": "g5sli_OTpZmR",
        "outputId": "ddfc73bc-c8c8-4f03-ad4c-a4430e33bf4c"
      },
      "source": [
        "l={\"Apple\",\"Guava\",\"pineapple\",\"Banana\",\"Orange\"}\r\n",
        "print(l)"
      ],
      "execution_count": 13,
      "outputs": [
        {
          "output_type": "stream",
          "text": [
            "{'Guava', 'Orange', 'pineapple', 'Apple', 'Banana'}\n"
          ],
          "name": "stdout"
        }
      ]
    },
    {
      "cell_type": "markdown",
      "metadata": {
        "id": "YbzsFkJ4qmsI"
      },
      "source": [
        "WAP to input a string and display its reverse string"
      ]
    },
    {
      "cell_type": "code",
      "metadata": {
        "colab": {
          "base_uri": "https://localhost:8080/"
        },
        "id": "yMaJ1RsWqZ1u",
        "outputId": "f019a561-0e0d-4d7e-f273-8a9d7de84cc2"
      },
      "source": [
        "string=input(\"Enter a string-\")\r\n",
        "print(string[::-1])"
      ],
      "execution_count": 19,
      "outputs": [
        {
          "output_type": "stream",
          "text": [
            "Enter a string-Durgesh\n",
            "hsegruD\n"
          ],
          "name": "stdout"
        }
      ]
    },
    {
      "cell_type": "code",
      "metadata": {
        "id": "KjX_KylQq_QC"
      },
      "source": [
        ""
      ],
      "execution_count": null,
      "outputs": []
    }
  ]
}