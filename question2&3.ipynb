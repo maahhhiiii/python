{
  "nbformat": 4,
  "nbformat_minor": 0,
  "metadata": {
    "colab": {
      "name": "Untitled0.ipynb",
      "provenance": [],
      "authorship_tag": "ABX9TyO31lTLDFtO48Ne9ZUzf4lA",
      "include_colab_link": true
    },
    "kernelspec": {
      "name": "python3",
      "display_name": "Python 3"
    }
  },
  "cells": [
    {
      "cell_type": "markdown",
      "metadata": {
        "id": "view-in-github",
        "colab_type": "text"
      },
      "source": [
        "<a href=\"https://colab.research.google.com/github/maahhhiiii/python/blob/main/question2%263.ipynb\" target=\"_parent\"><img src=\"https://colab.research.google.com/assets/colab-badge.svg\" alt=\"Open In Colab\"/></a>"
      ]
    },
    {
      "cell_type": "code",
      "metadata": {
        "colab": {
          "base_uri": "https://localhost:8080/"
        },
        "id": "zg6zZ6fud77O",
        "outputId": "f63d50ba-f902-4772-f1ab-d8bd92439494"
      },
      "source": [
        "#name=input(\"Enter your name-\")\r\n",
        "m1=int(input(\"Enter your mark1-\"))\r\n",
        "m2=int(input(\"Enter your mark2-\"))\r\n",
        "m3=int(input(\"Enter your mark3-\"))\r\n",
        "sum=m1+m2+m3\r\n",
        "percentage=(sum/300)*100\r\n",
        "print(\"Sum of all the marks is-\",sum)\r\n",
        "print(\"percentage =\",percentage)"
      ],
      "execution_count": 7,
      "outputs": [
        {
          "output_type": "stream",
          "text": [
            "Enter your name-Durgesh sahu\n",
            "Enter your mark1-99\n",
            "Enter your mark2-89\n",
            "Enter your mark3-87\n",
            "Sum of all the marks is- 275\n",
            "percentage = 91.66666666666666\n"
          ],
          "name": "stdout"
        }
      ]
    },
    {
      "cell_type": "code",
      "metadata": {
        "colab": {
          "base_uri": "https://localhost:8080/"
        },
        "id": "Wgd8abqtfkXo",
        "outputId": "bf719330-c736-4c71-b827-7c8b0c96950c"
      },
      "source": [
        "r=float(input(\"Enter radius of circle\"))\r\n",
        "area=3.14*r*r\r\n",
        "print(\"area=\",area)"
      ],
      "execution_count": 8,
      "outputs": [
        {
          "output_type": "stream",
          "text": [
            "Enter radius of circle2\n",
            "area= 12.56\n"
          ],
          "name": "stdout"
        }
      ]
    },
    {
      "cell_type": "code",
      "metadata": {
        "id": "H5tp7tgBkpK-"
      },
      "source": [
        ""
      ],
      "execution_count": null,
      "outputs": []
    }
  ]
}