{
  "nbformat": 4,
  "nbformat_minor": 0,
  "metadata": {
    "colab": {
      "name": "Untitled1.ipynb",
      "provenance": [],
      "authorship_tag": "ABX9TyM/ax4JHYl1vFLcVPlNK7SN",
      "include_colab_link": true
    },
    "kernelspec": {
      "name": "python3",
      "display_name": "Python 3"
    }
  },
  "cells": [
    {
      "cell_type": "markdown",
      "metadata": {
        "id": "view-in-github",
        "colab_type": "text"
      },
      "source": [
        "<a href=\"https://colab.research.google.com/github/maahhhiiii/python/blob/main/Experiment-2.ipynb\" target=\"_parent\"><img src=\"https://colab.research.google.com/assets/colab-badge.svg\" alt=\"Open In Colab\"/></a>"
      ]
    },
    {
      "cell_type": "markdown",
      "metadata": {
        "id": "iDjtC_xIdWrZ"
      },
      "source": [
        "Experiment-2\r\n",
        "WAP to find the simple intrest and compound intrest."
      ]
    },
    {
      "cell_type": "code",
      "metadata": {
        "colab": {
          "base_uri": "https://localhost:8080/"
        },
        "id": "AzehSGrwcrOv",
        "outputId": "cb687693-1a92-4568-e4d4-13ec061b004a"
      },
      "source": [
        "p=int(input(\"Enter the principal amount-\"))\r\n",
        "r=int(input(\"Enter the rate of intrest-\"))\r\n",
        "t=int(input(\"Enter time-\"))\r\n",
        "si=(p*r*t)/100\r\n",
        "print(\"SIMPLE INTREST:\",si)\r\n",
        "amount=p*(1+(r/100))**t\r\n",
        "ci=amount-si\r\n",
        "print(\"COMPOUND INTREST:\",ci)\r\n"
      ],
      "execution_count": 12,
      "outputs": [
        {
          "output_type": "stream",
          "text": [
            "Enter the principal amount-1000\n",
            "Enter the rate of intrest-5\n",
            "Enter time-5\n",
            "SIMPLE INTREST: 250.0\n",
            "COMPOUND INTREST: 1026.2815625000003\n"
          ],
          "name": "stdout"
        }
      ]
    },
    {
      "cell_type": "markdown",
      "metadata": {
        "id": "-JeD0zThdATd"
      },
      "source": [
        "WAP to input first name middle name adn last name into three variable and then apply concatenation"
      ]
    },
    {
      "cell_type": "code",
      "metadata": {
        "colab": {
          "base_uri": "https://localhost:8080/"
        },
        "id": "aiPnJu-umCNV",
        "outputId": "d6ea1977-bfc9-4ce5-8037-6179bbf445d6"
      },
      "source": [
        "f=input(\"Enter first name:\")\r\n",
        "m=input(\"Enter middle name:\")\r\n",
        "l=input(\"Enter last name:\")\r\n",
        "print(\"Hey\",f,m,l)"
      ],
      "execution_count": 16,
      "outputs": [
        {
          "output_type": "stream",
          "text": [
            "Enter first name:kaushal\n",
            "Enter middle name:kumar\n",
            "Enter last name:singh\n",
            "Hey kaushal kumar singh\n"
          ],
          "name": "stdout"
        }
      ]
    },
    {
      "cell_type": "markdown",
      "metadata": {
        "id": "Tc0lB1AxnBwa"
      },
      "source": [
        "3.WAP to create a list with multiple dimensions and display the elements of it."
      ]
    },
    {
      "cell_type": "code",
      "metadata": {
        "colab": {
          "base_uri": "https://localhost:8080/"
        },
        "id": "wrjFebJDnYU9",
        "outputId": "923f8b2f-9ef1-482c-9c49-2852a19782d7"
      },
      "source": [
        "list=[[\"Durgseh\",90,\"mango\"],[\"kaushal\",99,\"Banana\"]]\r\n",
        "print(\"Your list is:\",list)"
      ],
      "execution_count": 21,
      "outputs": [
        {
          "output_type": "stream",
          "text": [
            "Your list is: [['Durgseh', 90, 'mango'], ['kaushal', 99, 'Banana']]\n"
          ],
          "name": "stdout"
        }
      ]
    },
    {
      "cell_type": "markdown",
      "metadata": {
        "id": "y5ZxpydGolst"
      },
      "source": [
        "4.WAP to implement type conversion on diffrent data types"
      ]
    },
    {
      "cell_type": "code",
      "metadata": {
        "colab": {
          "base_uri": "https://localhost:8080/"
        },
        "id": "8shVOHz2ofK-",
        "outputId": "ca739dca-aec2-46d7-925d-3ecb15e569fd"
      },
      "source": [
        "a=int(input(\"Enter a integer number\"))\r\n",
        "b=float(input(\"Enter a float number\"))\r\n",
        "c=a+b\r\n",
        "print(c)\r\n",
        "print(\"Type of'a' is:\",type(a))\r\n",
        "print(\"Type of'b' is:\",type(b))\r\n",
        "print(\"type of 'c' is:\",type (c))"
      ],
      "execution_count": 27,
      "outputs": [
        {
          "output_type": "stream",
          "text": [
            "Enter a integer number10\n",
            "Enter a float number100.213\n",
            "110.213\n",
            "Type of'a' is: <class 'int'>\n",
            "Type of'b' is: <class 'float'>\n",
            "type of 'c' is: <class 'float'>\n"
          ],
          "name": "stdout"
        }
      ]
    },
    {
      "cell_type": "markdown",
      "metadata": {
        "id": "4AwGFesOqtG3"
      },
      "source": [
        "5.Find the distance between 2 poins using pythagorean theorem, Where the coordinates of two points given input."
      ]
    },
    {
      "cell_type": "code",
      "metadata": {
        "colab": {
          "base_uri": "https://localhost:8080/"
        },
        "id": "1_GjmUXqqAy3",
        "outputId": "915e44c1-c240-4ac9-c1b7-b657ebce5028"
      },
      "source": [
        "from math import sqrt\r\n",
        "x1=int(input(\"Enter x1:\"))\r\n",
        "y1=int(input(\"Enter y1:\"))\r\n",
        "x2=int(input(\"Enter x2:\"))\r\n",
        "y2=int(input(\"Enter y2:\"))\r\n",
        "x=x1-x2\r\n",
        "y=y1-y2\r\n",
        "d=sqrt(x**2+y**2)\r\n",
        "print(\"d is\",d)"
      ],
      "execution_count": 31,
      "outputs": [
        {
          "output_type": "stream",
          "text": [
            "Enter x1:12\n",
            "Enter y1:25\n",
            "Enter x2:30\n",
            "Enter y2:40\n",
            "d is 23.430749027719962\n"
          ],
          "name": "stdout"
        }
      ]
    },
    {
      "cell_type": "code",
      "metadata": {
        "id": "M4sZ28Dws-Tg"
      },
      "source": [
        ""
      ],
      "execution_count": null,
      "outputs": []
    }
  ]
}