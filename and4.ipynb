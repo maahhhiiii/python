{
  "nbformat": 4,
  "nbformat_minor": 0,
  "metadata": {
    "colab": {
      "name": "Untitled0.ipynb",
      "provenance": [],
      "authorship_tag": "ABX9TyMZ8C3StpVsOAjyZfrvuGde",
      "include_colab_link": true
    },
    "kernelspec": {
      "name": "python3",
      "display_name": "Python 3"
    }
  },
  "cells": [
    {
      "cell_type": "markdown",
      "metadata": {
        "id": "view-in-github",
        "colab_type": "text"
      },
      "source": [
        "<a href=\"https://colab.research.google.com/github/maahhhiiii/python/blob/main/and4.ipynb\" target=\"_parent\"><img src=\"https://colab.research.google.com/assets/colab-badge.svg\" alt=\"Open In Colab\"/></a>"
      ]
    },
    {
      "cell_type": "code",
      "metadata": {
        "id": "zg6zZ6fud77O"
      },
      "source": [
        "#name=input(\"Enter your name-\")\r\n",
        "m1=int(input(\"Enter your mark1-\"))\r\n",
        "m2=int(input(\"Enter your mark2-\"))\r\n",
        "m3=int(input(\"Enter your mark3-\"))\r\n",
        "sum=m1+m2+m3\r\n",
        "percentage=(sum/300)*100\r\n",
        "print(\"Sum of all the marks is-\",sum)\r\n",
        "print(\"percentage =\",percentage)"
      ],
      "execution_count": null,
      "outputs": []
    },
    {
      "cell_type": "code",
      "metadata": {
        "colab": {
          "base_uri": "https://localhost:8080/"
        },
        "id": "Wgd8abqtfkXo",
        "outputId": "305e915a-87b5-4d90-e0c3-95d4a715b4c7"
      },
      "source": [
        "r=float(input(\"Enter radius of circle\"))\r\n",
        "p=3.14\r\n",
        "area=p*r*r\r\n",
        "print(\"area=\",area)"
      ],
      "execution_count": 9,
      "outputs": [
        {
          "output_type": "stream",
          "text": [
            "Enter radius of circle2\n",
            "area= 12.56\n"
          ],
          "name": "stdout"
        }
      ]
    },
    {
      "cell_type": "code",
      "metadata": {
        "colab": {
          "base_uri": "https://localhost:8080/"
        },
        "id": "H5tp7tgBkpK-",
        "outputId": "a1dc751e-8728-4d72-e7ae-cc0cc91effa8"
      },
      "source": [
        "h=int(input(\"Enter the height of the triangle\"))\r\n",
        "b=int(input(\"Enter the base of the triangle\"))\r\n",
        "l=int(input(\"Enter the third side of triangle\"))\r\n",
        "area=0.5*h*b\r\n",
        "p=h+b+l\r\n",
        "print(\"area=\",area)\r\n",
        "print(\"perimeter=\",p)"
      ],
      "execution_count": 10,
      "outputs": [
        {
          "output_type": "stream",
          "text": [
            "Enter the height of the triangle10\n",
            "Enter the base of the triangle20\n",
            "Enter the third side of triangle30\n",
            "area= 100.0\n",
            "perimeter= 60\n"
          ],
          "name": "stdout"
        }
      ]
    },
    {
      "cell_type": "code",
      "metadata": {
        "id": "Tp8UEnlmm4Io"
      },
      "source": [
        ""
      ],
      "execution_count": null,
      "outputs": []
    }
  ]
}